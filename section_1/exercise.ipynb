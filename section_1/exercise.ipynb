{
  "nbformat": 4,
  "nbformat_minor": 0,
  "metadata": {
    "colab": {
      "name": "exercise.ipynb",
      "provenance": [],
      "include_colab_link": true
    },
    "kernelspec": {
      "name": "python3",
      "display_name": "Python 3"
    }
  },
  "cells": [
    {
      "cell_type": "markdown",
      "metadata": {
        "id": "view-in-github",
        "colab_type": "text"
      },
      "source": [
        "<a href=\"https://colab.research.google.com/github/torikeratopopo/demo/blob/main/section_1/exercise.ipynb\" target=\"_parent\"><img src=\"https://colab.research.google.com/assets/colab-badge.svg\" alt=\"Open In Colab\"/></a>"
      ]
    },
    {
      "cell_type": "markdown",
      "metadata": {
        "id": "z8g5FUr1BPri"
      },
      "source": [
        "# 演習\n",
        "Pythonを学ぶ前に、Google Colaboratoryの使い方に慣れておきましょう。  \n",
        "このノートブックで、以下のセルの操作を行ってみましょう。  \n",
        "\n",
        "* コードセルの作成\n",
        "* コードセルにPythonのコードを記述し、「Hello World!」と表示\n",
        "* コードセルに足し算のコードを記述し、結果を表示\n",
        "* テキストセルの作成\n",
        "* テキストセルに文章を記述\n",
        "* テキストセルで文章を改行\n",
        "* テキストセルにリストを記述\n",
        "* セルの上下の入れ替え\n",
        "* セルの消去"
      ]
    },
    {
      "cell_type": "code",
      "source": [
        "print(\"Hello World!\")"
      ],
      "metadata": {
        "id": "KOjlPtKArSAw",
        "outputId": "5c50133a-74a5-4f52-978a-6c264b17a430",
        "colab": {
          "base_uri": "https://localhost:8080/",
          "height": 139
        }
      },
      "execution_count": 11,
      "outputs": [
        {
          "output_type": "error",
          "ename": "TypeError",
          "evalue": "'str' object is not callable",
          "traceback": [
            "\u001b[0;31m---------------------------------------------------------------------------\u001b[0m",
            "\u001b[0;31mTypeError\u001b[0m                                 Traceback (most recent call last)",
            "\u001b[0;32m/tmp/ipython-input-2767407534.py\u001b[0m in \u001b[0;36m<cell line: 0>\u001b[0;34m()\u001b[0m\n\u001b[0;32m----> 1\u001b[0;31m \u001b[0mprint\u001b[0m\u001b[0;34m(\u001b[0m\u001b[0;34m\"Hello World!\"\u001b[0m\u001b[0;34m)\u001b[0m\u001b[0;34m\u001b[0m\u001b[0;34m\u001b[0m\u001b[0m\n\u001b[0m",
            "\u001b[0;31mTypeError\u001b[0m: 'str' object is not callable"
          ]
        }
      ]
    },
    {
      "cell_type": "code",
      "source": [],
      "metadata": {
        "id": "8pD98IknpYWq"
      },
      "execution_count": null,
      "outputs": []
    }
  ]
}